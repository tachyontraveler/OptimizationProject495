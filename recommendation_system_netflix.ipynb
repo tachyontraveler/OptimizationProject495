{
 "cells": [
  {
   "cell_type": "code",
   "execution_count": 37,
   "metadata": {},
   "outputs": [],
   "source": [
    "import numpy as np\n",
    "from scipy import sparse\n",
    "import matplotlib.pyplot as plt\n",
    "from sklearn.metrics.pairwise import cosine_similarity\n",
    "from sklearn.metrics import mean_squared_error\n",
    "from datetime import datetime\n",
    "from multiprocessing import Pool"
   ]
  },
  {
   "cell_type": "code",
   "execution_count": 2,
   "metadata": {},
   "outputs": [],
   "source": [
    "def read_data(save_file=False):\n",
    "    data = []\n",
    "    for filename in ['1']: #['1','2','3','4']:\n",
    "        filename = './dataset/combined_data_'+filename+'.txt'\n",
    "        for line in open(filename,'r').read().strip().split('\\n'):\n",
    "            line = line.strip()\n",
    "            if line.endswith(':'):\n",
    "                movie_title = (line[:-1])\n",
    "            else:\n",
    "                data.append([movie_title]+line.split(','))\n",
    "    if save_file:\n",
    "        title = 'movie,username,rating,timestamp'\n",
    "        np.savetxt('current_data.csv',data,fmt=\"%s\",header=title)\n",
    "    return data"
   ]
  },
  {
   "cell_type": "code",
   "execution_count": 5,
   "metadata": {},
   "outputs": [],
   "source": [
    "data = read_data(save_file=True)"
   ]
  },
  {
   "cell_type": "code",
   "execution_count": 9,
   "metadata": {},
   "outputs": [],
   "source": [
    "tdata = (np.array(data)).astype(int)"
   ]
  },
  {
   "cell_type": "code",
   "execution_count": 39,
   "metadata": {},
   "outputs": [
    {
     "name": "stdout",
     "output_type": "stream",
     "text": [
      "325307\n",
      "4488\n"
     ]
    }
   ],
   "source": [
    "n_sample = 1000000\n",
    "ndata = tdata[np.random.choice(tdata.shape[0], n_sample, replace=False),:]\n",
    "cust_ids = np.unique(ndata[:,1])\n",
    "movie_ids = np.unique(ndata[:,0])\n",
    "cust_ids.sort()\n",
    "cust_ids = list(cust_ids)\n",
    "print(len(cust_ids))\n",
    "print(len(movie_ids))"
   ]
  },
  {
   "cell_type": "code",
   "execution_count": 38,
   "metadata": {},
   "outputs": [],
   "source": [
    "def convert_userids(item):\n",
    "    item[1] = cust_ids.index(item[1])+1\n",
    "    return item"
   ]
  },
  {
   "cell_type": "code",
   "execution_count": null,
   "metadata": {},
   "outputs": [],
   "source": [
    "p = Pool()\n",
    "cdata = p.map(convert_userids,ndata)"
   ]
  },
  {
   "cell_type": "code",
   "execution_count": null,
   "metadata": {},
   "outputs": [],
   "source": [
    "print (cdata[:10])"
   ]
  },
  {
   "cell_type": "code",
   "execution_count": null,
   "metadata": {},
   "outputs": [],
   "source": [
    "title = 'movie,username,rating'\n",
    "np.savetxt('converted_data.csv',cata,fmt=\"%i\",header=title)"
   ]
  },
  {
   "cell_type": "code",
   "execution_count": null,
   "metadata": {},
   "outputs": [],
   "source": []
  }
 ],
 "metadata": {
  "kernelspec": {
   "display_name": "Python (495_ann_py3.7)",
   "language": "python",
   "name": "eecs495_ann"
  },
  "language_info": {
   "codemirror_mode": {
    "name": "ipython",
    "version": 3
   },
   "file_extension": ".py",
   "mimetype": "text/x-python",
   "name": "python",
   "nbconvert_exporter": "python",
   "pygments_lexer": "ipython3",
   "version": "3.7.0"
  }
 },
 "nbformat": 4,
 "nbformat_minor": 2
}
